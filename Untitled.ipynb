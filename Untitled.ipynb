{
 "cells": [
  {
   "cell_type": "code",
   "execution_count": 1,
   "metadata": {},
   "outputs": [],
   "source": [
    "import requests\n",
    "from bs4 import BeautifulSoup\n",
    "import pandas as pd"
   ]
  },
  {
   "cell_type": "code",
   "execution_count": 2,
   "metadata": {},
   "outputs": [],
   "source": [
    "def get_candidates_data(url):\n",
    "    gov = requests.get(url)\n",
    "    governor_data = BeautifulSoup(gov.content, 'lxml')\n",
    "    \n",
    "    precintos = governor_data.findAll('group')\n",
    "\n",
    "    precintos_info = {}\n",
    "\n",
    "    for precinto in precintos:\n",
    "        pre_name = precinto.find('description').find('es').text\n",
    "\n",
    "\n",
    "        candidates = precinto.findAll('option')\n",
    "\n",
    "        for idx, candidate in enumerate(candidates):\n",
    "            try:\n",
    "                candidate_name = candidate.find('name').find('es').text\n",
    "                candidate_party = candidate.find('pe').find('es').text\n",
    "                candidate_votes = candidate.find('votes').text\n",
    "            except:\n",
    "                continue\n",
    "\n",
    "            if idx > 0:\n",
    "                precintos_info[pre_name].update({f'{candidate_name}, {candidate_party}': candidate_votes})\n",
    "            else:\n",
    "                precintos_info[pre_name] = {candidate_name: candidate_votes}\n",
    "\n",
    "    #print(precintos_info)\n",
    "    df = pd.DataFrame(precintos_info).T\n",
    "    df = df.reset_index()\n",
    "    df = df.melt(id_vars=['index'])\n",
    "    \n",
    "    df['candidate'] = df['variable'].str.split(', ', expand = True)[0]\n",
    "    df['party'] = df['variable'].str.split(', ', expand = True)[1]\n",
    "    \n",
    "    df.drop('variable', inplace=True, axis = 1)\n",
    "    df.columns = pd.Index(['precinto', 'votos', 'persona', 'partido'])\n",
    "    \n",
    "    return df"
   ]
  },
  {
   "cell_type": "code",
   "execution_count": 3,
   "metadata": {},
   "outputs": [],
   "source": [
    "def get_precinct_info(url):\n",
    "    gov = requests.get(url)\n",
    "    governor_data = BeautifulSoup(gov.content, 'lxml')\n",
    "    \n",
    "    precintos = governor_data.findAll('group')\n",
    "\n",
    "    precintos_info = {}\n",
    "\n",
    "    for precinto in precintos:\n",
    "        pre_name = precinto.find('description').find('es').text\n",
    "        pre_url = precinto.find('name').find('es').text\n",
    "    \n",
    "        precinto_url = f'http://elecciones2016.ceepur.org/Escrutinio_General_77/data/{pre_url}'\n",
    "        #print(precinto_url)\n",
    "        precinto_page = requests.get(precinto_url)\n",
    "        precinto_page = BeautifulSoup(precinto_page.content, 'lxml')\n",
    "\n",
    "        qty = precinto_page.findAll('qty')\n",
    "        qty.pop(4)\n",
    "        qty = [text.text for text in qty]\n",
    "\n",
    "        desc = precinto_page.findAll('desc')\n",
    "        desc = [text.find('es').text for text in desc]\n",
    "\n",
    "        votes_info = dict(zip(desc, qty))\n",
    "\n",
    "        precintos_info[pre_name] = votes_info\n",
    "        \n",
    "    df = pd.DataFrame(precintos_info).T\n",
    "    df = df.reset_index()\n",
    "    df = df.melt(id_vars=['index'])\n",
    "\n",
    "    return df"
   ]
  },
  {
   "cell_type": "markdown",
   "metadata": {},
   "source": [
    "### Gobernador"
   ]
  },
  {
   "cell_type": "code",
   "execution_count": 4,
   "metadata": {},
   "outputs": [],
   "source": [
    "gov_url = 'http://elecciones2016.ceepur.org/Escrutinio_General_77/data/GOBERNADOR_Precintos.xml'"
   ]
  },
  {
   "cell_type": "code",
   "execution_count": 6,
   "metadata": {},
   "outputs": [],
   "source": [
    "governor_data = get_candidates_data(gov_url)"
   ]
  },
  {
   "cell_type": "markdown",
   "metadata": {},
   "source": [
    "### Comisionado"
   ]
  },
  {
   "cell_type": "code",
   "execution_count": 7,
   "metadata": {},
   "outputs": [],
   "source": [
    "com_url = 'http://elecciones2016.ceepur.org/Escrutinio_General_77/data/COMISIONADO_RESIDENTE_Precintos.xml'"
   ]
  },
  {
   "cell_type": "code",
   "execution_count": 8,
   "metadata": {
    "scrolled": false
   },
   "outputs": [],
   "source": [
    "com_data = get_candidates_data(com_url)"
   ]
  },
  {
   "cell_type": "markdown",
   "metadata": {},
   "source": [
    "### Representante"
   ]
  },
  {
   "cell_type": "code",
   "execution_count": 9,
   "metadata": {},
   "outputs": [],
   "source": [
    "repr_url = 'http://elecciones2016.ceepur.org/Escrutinio_General_77/data/REPRESENTANTES_POR_DISTRITO_Precintos.xml'"
   ]
  },
  {
   "cell_type": "code",
   "execution_count": 10,
   "metadata": {},
   "outputs": [],
   "source": [
    "repr_data = get_candidates_data(repr_url)"
   ]
  },
  {
   "cell_type": "markdown",
   "metadata": {},
   "source": [
    "### Senadores"
   ]
  },
  {
   "cell_type": "code",
   "execution_count": 11,
   "metadata": {},
   "outputs": [],
   "source": [
    "senator_url = 'http://elecciones2016.ceepur.org/Escrutinio_General_77/data/SENADORES_POR_DISTRITO_Precintos.xml'"
   ]
  },
  {
   "cell_type": "code",
   "execution_count": 12,
   "metadata": {},
   "outputs": [],
   "source": [
    "senator_data = get_candidates_data(senator_url)"
   ]
  },
  {
   "cell_type": "code",
   "execution_count": null,
   "metadata": {},
   "outputs": [],
   "source": []
  },
  {
   "cell_type": "code",
   "execution_count": 14,
   "metadata": {},
   "outputs": [],
   "source": [
    "governor_data.to_csv('governor_2016.csv', index=False)"
   ]
  },
  {
   "cell_type": "code",
   "execution_count": null,
   "metadata": {},
   "outputs": [],
   "source": []
  }
 ],
 "metadata": {
  "kernelspec": {
   "display_name": "Python 3",
   "language": "python",
   "name": "python3"
  },
  "language_info": {
   "codemirror_mode": {
    "name": "ipython",
    "version": 3
   },
   "file_extension": ".py",
   "mimetype": "text/x-python",
   "name": "python",
   "nbconvert_exporter": "python",
   "pygments_lexer": "ipython3",
   "version": "3.6.8"
  }
 },
 "nbformat": 4,
 "nbformat_minor": 2
}
